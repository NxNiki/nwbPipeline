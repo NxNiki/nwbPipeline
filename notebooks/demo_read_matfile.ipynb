{
 "cells": [
  {
   "cell_type": "code",
   "execution_count": 41,
   "id": "320b62bd-f0c1-4950-99b7-85a4bdd43421",
   "metadata": {},
   "outputs": [
    {
     "name": "stdout",
     "output_type": "stream",
     "text": [
      "Available variables: ['#refs#', '#subsystem#', 'samplingInterval', 'time0', 'timeStamps', 'timeend']\n",
      "Variable 1: [[0.]]\n",
      "Variable 2: [[1.71477013e+09]\n",
      " [1.71477013e+09]\n",
      " [1.71477013e+09]\n",
      " ...\n",
      " [1.71477184e+09]\n",
      " [1.71477184e+09]\n",
      " [1.71477184e+09]]\n",
      "[array([3707764736,          2,          1,          1,          2,\n",
      "                2], dtype=uint32)]\n"
     ]
    }
   ],
   "source": [
    "import h5py\n",
    "import os\n",
    "import datetime\n",
    "\n",
    "\"\"\"\n",
    "This script reads data from a .mat file and converts them into a Python np or timedelta objects.\n",
    "Duration objects in matlab is tricky. We need to extract hours, minutes, seconds, milliseconds, and microseconds from the 'timeend' variable\n",
    "and convert the extracted duration components into a Python timedelta object.\n",
    "\n",
    "Note: The 'timeend' variable is assumed to be a numpy array with specific columns representing different components of the duration.\n",
    "\"\"\"\n",
    "\n",
    "# Get the absolute path of the current file\n",
    "current_file_path = os.path.dirname(os.getcwd())\n",
    "\n",
    "# Path to your NWB file\n",
    "file_path = os.path.join(current_file_path, 'test/lfpTimeStamps_macro_exp001.mat')\n",
    "\n",
    "with h5py.File(file_path, 'r') as f:\n",
    "    # List all variables in the .mat file\n",
    "    print(\"Available variables:\", list(f.keys()))\n",
    "\n",
    "    # Read specific variables\n",
    "    var1 = f['time0'][:]\n",
    "    var2 = f['timeStamps'][:]\n",
    "\n",
    "    print(\"Variable 1:\", var1)\n",
    "    print(\"Variable 2:\", var2)\n",
    "\n",
    "    var3 = f['timeend'][:]\n",
    "    print(list(var3))\n",
    "    # Extract components of the duration\n",
    "\n",
    "    ### this is not correct!\n",
    "    # hours = var3[:, 1].item()\n",
    "    # minutes = var3[:, 2].item()\n",
    "    # seconds = var3[:, 3].item()\n",
    "    # milliseconds = var3[:, 4].item()\n",
    "    # microseconds = var3[:, 5].item()\n",
    "\n",
    "    # # Convert to Python timedelta objects\n",
    "    # duration = datetime.timedelta(hours=hours, minutes=minutes, seconds=seconds, milliseconds=milliseconds)\n",
    "    # print(duration)\n"
   ]
  },
  {
   "cell_type": "code",
   "execution_count": 40,
   "id": "807d8c5c-789e-43ce-8442-87df7c5934a2",
   "metadata": {},
   "outputs": [
    {
     "data": {
      "text/plain": [
       "[array([3707764736,          2,          1,          1,          1,\n",
       "                 1], dtype=uint32)]"
      ]
     },
     "execution_count": 40,
     "metadata": {},
     "output_type": "execute_result"
    }
   ],
   "source": [
    "list(var3)"
   ]
  },
  {
   "cell_type": "code",
   "execution_count": null,
   "id": "ed53e765-4620-4b9a-8c4d-cadafbb77f5f",
   "metadata": {},
   "outputs": [],
   "source": []
  }
 ],
 "metadata": {
  "kernelspec": {
   "display_name": "Python 3 (ipykernel)",
   "language": "python",
   "name": "python3"
  },
  "language_info": {
   "codemirror_mode": {
    "name": "ipython",
    "version": 3
   },
   "file_extension": ".py",
   "mimetype": "text/x-python",
   "name": "python",
   "nbconvert_exporter": "python",
   "pygments_lexer": "ipython3",
   "version": "3.8.19"
  }
 },
 "nbformat": 4,
 "nbformat_minor": 5
}
